{
  "nbformat": 4,
  "nbformat_minor": 0,
  "metadata": {
    "colab": {
      "provenance": []
    },
    "kernelspec": {
      "name": "python3",
      "display_name": "Python 3"
    },
    "language_info": {
      "name": "python"
    }
  },
  "cells": [
    {
      "cell_type": "code",
      "source": [
        "from qiskit.providers.ibmq.job.ibmqjob import ibmqbackend"
      ],
      "metadata": {
        "id": "MjiKeA6THrUa"
      },
      "execution_count": 90,
      "outputs": []
    },
    {
      "cell_type": "code",
      "source": [
        "def different_borrow_XNOR(bitA, bitB, Borrow):\n",
        "    qreg_q = QuantumRegister(4, 'q')\n",
        "    creg_dbx = ClassicalRegister(3, 'dbx')\n",
        "    circuit = QuantumCircuit(qreg_q, creg_dbx)\n",
        "    \n",
        "    # add the 2bits value to the subtractor circuit as (bitA - bitB)\n",
        "    if(bitA == 1):circuit.x(qreg_q[0])\n",
        "    if(bitB == 1):circuit.x(qreg_q[1])\n",
        "    if(Borrow == 1):circuit.x(qreg_q[3])\n",
        "    circuit.barrier(qreg_q)\n",
        "    \n",
        "    # constracting the G^3(132) gate\n",
        "    circuit.cx(qreg_q[1], qreg_q[2])\n",
        "    circuit.ccx(qreg_q[0], qreg_q[2], qreg_q[1])\n",
        "    circuit.cx(qreg_q[0], qreg_q[2])\n",
        "    circuit.x(qreg_q[2])\n",
        "    circuit.barrier(qreg_q)\n",
        "    # constracting the G^3(231) gate\n",
        "    circuit.ccx(qreg_q[2], qreg_q[3], qreg_q[1])\n",
        "    circuit.cx(qreg_q[2], qreg_q[3])\n",
        "    circuit.x(qreg_q[3])\n",
        "    circuit.barrier(qreg_q)\n",
        "    \n",
        "    # measuring the different, Borrow and XNOR qubit values\n",
        "    circuit.measure(qreg_q[1], creg_dbx[1])\n",
        "    circuit.measure(qreg_q[2], creg_dbx[2])\n",
        "    circuit.measure(qreg_q[3], creg_dbx[0])\n",
        "    \n",
        "    # runnim the circuit on simulator and return list of the dbx\n",
        "    backend = Aer.get_backend('qasm_simulator')\n",
        "    job = execute(circuit, backend = backend, shots = 1024)  # any number of shots can be good in this case, i used the stander 1024 \n",
        "    result = job.result()\n",
        "    counts = result.get_counts()\n",
        "    plot_histogram(counts)\n",
        "    k, v = counts.popitem()\n",
        "    return list(map(int,str(k)))\n",
        "    "
      ],
      "metadata": {
        "id": "p1M-zUASH-I0"
      },
      "execution_count": 87,
      "outputs": []
    },
    {
      "cell_type": "code",
      "source": [
        "def find_the_largest_number(A,B):\n",
        "    \n",
        "    # convert both numbers to the its binary representation and make them the both size list\n",
        "    a = bin(A).replace(\"-0b\", \"1\").replace(\"0b\", \"0\")\n",
        "    a = list(map(int,str(a)))\n",
        "    b = bin(B).replace(\"-0b\", \"1\").replace(\"0b\", \"0\")\n",
        "    b = list(map(int,str(b)))\n",
        "    if(len(a) > len(b)):\n",
        "      for i in range( len(a) - len(b) ):\n",
        "        b.insert(1,0)\n",
        "    elif(len(a)<len(b)):\n",
        "       for i in range( len(b) - len(a) ):\n",
        "        a.insert(1,0)\n",
        "\n",
        "    # first will check the sign bits with the same circuit by the XNOR output\n",
        "    sign_bit = different_borrow_XNOR(a[0],b[0],0)\n",
        "    if(sign_bit[0] == 0):\n",
        "      if(sign_bit[1] == 1):return A \n",
        "      else: return B\n",
        "\n",
        "    # now we sure both numbers are positive or negative we load both numbers bit by bit to our full Subtractor circuit\n",
        "    borrow = 0\n",
        "    for i in reversed(range(1,len(a))):\n",
        "      dbx = different_borrow_XNOR(a[i],b[i],borrow)\n",
        "      borrow = dbx[1]\n",
        "    \n",
        "    # after subtracting the 2 numbers we have the last dbx with the last borrow value representing the value sign\n",
        "    # if both numbers were positve & ( A > B ) the borrow would be 0\n",
        "    # if both numbers were negative & ( A > B ) the borrow would be 1\n",
        "    if( dbx[1] == 0 ):\n",
        "      if( a[0] == 0 ): return A\n",
        "      else: return B\n",
        "    elif( a[0] == 0 ): return B\n",
        "    else: return A\n",
        "    \n"
      ],
      "metadata": {
        "id": "fPRA4GEqIUw1"
      },
      "execution_count": 88,
      "outputs": []
    },
    {
      "cell_type": "code",
      "source": [
        "print(find_the_largest_number(5,-6))\n",
        "print(find_the_largest_number(-25,-12))\n",
        "print(find_the_largest_number(1024,256))"
      ],
      "metadata": {
        "colab": {
          "base_uri": "https://localhost:8080/"
        },
        "id": "i_oM2Fg6IY2V",
        "outputId": "9112fb5d-9648-46f0-a11a-8fb484d5e928"
      },
      "execution_count": 89,
      "outputs": [
        {
          "output_type": "stream",
          "name": "stdout",
          "text": [
            "5\n",
            "-12\n",
            "1024\n"
          ]
        }
      ]
    }
  ]
}